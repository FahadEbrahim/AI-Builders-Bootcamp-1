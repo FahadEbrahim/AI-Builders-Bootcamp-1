{
 "cells": [
  {
   "cell_type": "markdown",
   "id": "773f2b77-a3c6-47b8-8246-1b958555f4af",
   "metadata": {},
   "source": [
    "# ETL of Gmail Data\n",
    "## ABB #1 - Session 2\n",
    "\n",
    "Code authored by: Shaw Talebi"
   ]
  },
  {
   "cell_type": "markdown",
   "id": "62058d9d-adc2-4a6f-a60e-ff2abca7d93b",
   "metadata": {},
   "source": [
    "### imports"
   ]
  },
  {
   "cell_type": "code",
   "execution_count": 1,
   "id": "aa6c91d1-058e-49a7-8296-75bb925c2e8b",
   "metadata": {},
   "outputs": [],
   "source": [
    "import imaplib\n",
    "import email\n",
    "from email.policy import default\n",
    "import pandas as pd\n",
    "\n",
    "from top_secret import app_password"
   ]
  },
  {
   "cell_type": "markdown",
   "id": "7e99a8de",
   "metadata": {},
   "source": [
    "### functions"
   ]
  },
  {
   "cell_type": "code",
   "execution_count": 2,
   "id": "eb2bc87b-3641-4953-88de-261aaabd48ca",
   "metadata": {},
   "outputs": [],
   "source": [
    "def parse_emails(mail, mailbox_name):\n",
    "    \"\"\"\n",
    "        Parse emails from a given mailbox and return a dataframe with the emails and labels.\n",
    "    \"\"\"\n",
    "\n",
    "    # Step 2: Select the folder\n",
    "    mail.select(mailbox_name)  # 'inbox' or 'spam'\n",
    "\n",
    "    # Step 3: Search for emails\n",
    "    _, messages = mail.search(None, \"ALL\")\n",
    "\n",
    "    # Step 4: Extract emails\n",
    "    # Fetch and parse the emails\n",
    "    email_data = []\n",
    "    for msg_id in messages[0].split():\n",
    "        _, msg_data = mail.fetch(msg_id, \"(RFC822)\")\n",
    "        \n",
    "        for response_part in msg_data:\n",
    "            if isinstance(response_part, tuple):\n",
    "                msg = email.message_from_bytes(response_part[1], policy=default)\n",
    "                subject = msg[\"subject\"]\n",
    "                from_ = msg[\"from\"]\n",
    "                if msg.is_multipart():\n",
    "                    body = \"\"\n",
    "                    for part in msg.walk():\n",
    "                        if part.get_content_type() == \"text/plain\":\n",
    "                            body += part.get_payload(decode=True).decode('utf-8', errors='ignore')\n",
    "                else:\n",
    "                    body = msg.get_payload(decode=True).decode('utf-8', errors='ignore')\n",
    "\n",
    "                email_data.append({\n",
    "                    \"subject\": subject,\n",
    "                    \"from\": from_,\n",
    "                    \"body\": body\n",
    "                })\n",
    "\n",
    "    return email_data"
   ]
  },
  {
   "cell_type": "code",
   "execution_count": 3,
   "id": "4300d448",
   "metadata": {},
   "outputs": [],
   "source": [
    "def extract_folder_names(mail, keyword):\n",
    "    \"\"\"\n",
    "        Extract folder names containing a given keyword.\n",
    "    \"\"\"\n",
    "    # Get list of folders\n",
    "    _, folders = mail.list()\n",
    "\n",
    "    # Extract folder names containing \"Personal\"\n",
    "    folder_list = []\n",
    "    for folder in folders:\n",
    "        # Decode from bytes to string and split by quotes\n",
    "        folder_str = folder.decode('utf-8')\n",
    "        # Extract folder name (it's between the last quote marks)\n",
    "        folder_name = folder_str.split('\"')[-2]\n",
    "        \n",
    "        if keyword in folder_name:\n",
    "            folder_list.append(folder_name)\n",
    "\n",
    "    return folder_list"
   ]
  },
  {
   "cell_type": "code",
   "execution_count": 4,
   "id": "dd1396b8",
   "metadata": {},
   "outputs": [],
   "source": [
    "def parse_emails_from_keyword(mail, num_emails, keyword, label):\n",
    "    \"\"\"\n",
    "        Parse emails from a given keyword and return a dataframe with the emails and labels.\n",
    "    \"\"\"\n",
    "\n",
    "    folder_list = extract_folder_names(mail, keyword)\n",
    "\n",
    "    email_data = []\n",
    "    for mailbox_name in folder_list:\n",
    "        try:\n",
    "            email_data = email_data + parse_emails(mail, mailbox_name)\n",
    "        except:\n",
    "            print(f\"Could not parse {mailbox_name}\")\n",
    "\n",
    "        if len(email_data) > num_emails:\n",
    "            break\n",
    "\n",
    "    df = pd.DataFrame(email_data)\n",
    "    df[\"label\"] = label\n",
    "    \n",
    "    return df"
   ]
  },
  {
   "cell_type": "markdown",
   "id": "6f0e9770-2ec3-47ea-bd42-884c53a40918",
   "metadata": {},
   "source": [
    "### Extract"
   ]
  },
  {
   "cell_type": "code",
   "execution_count": 5,
   "id": "6b44d835",
   "metadata": {},
   "outputs": [
    {
     "data": {
      "text/plain": [
       "('OK', [b'swcballa@gmail.com authenticated (Success)'])"
      ]
     },
     "execution_count": 5,
     "metadata": {},
     "output_type": "execute_result"
    }
   ],
   "source": [
    "# define email details\n",
    "imap_server = \"imap.gmail.com\"\n",
    "email_address = \"your email here\"\n",
    "\n",
    "# establish connection to the server\n",
    "mail = imaplib.IMAP4_SSL(imap_server)\n",
    "mail.login(email_address, app_password)"
   ]
  },
  {
   "cell_type": "code",
   "execution_count": 6,
   "id": "39722d2a",
   "metadata": {},
   "outputs": [
    {
     "name": "stdout",
     "output_type": "stream",
     "text": [
      "Could not parse Personal/Family/Amoo Ali\n",
      "254\n"
     ]
    }
   ],
   "source": [
    "# extract personal emails\n",
    "num_emails = 150\n",
    "keyword = \"Personal\"\n",
    "label = \"personal\"\n",
    "\n",
    "df_personal = parse_emails_from_keyword(mail, num_emails, keyword, label)\n",
    "print(len(df_personal))"
   ]
  },
  {
   "cell_type": "code",
   "execution_count": 7,
   "id": "dcb6e0c1",
   "metadata": {},
   "outputs": [
    {
     "name": "stdout",
     "output_type": "stream",
     "text": [
      "Could not parse STV/Amazon Assoc\n",
      "160\n"
     ]
    }
   ],
   "source": [
    "# extract non-personal emails\n",
    "keyword = \"STV\"\n",
    "label = \"not personal\"\n",
    "\n",
    "df_not_personal = parse_emails_from_keyword(mail, num_emails, keyword, label)\n",
    "print(len(df_not_personal))"
   ]
  },
  {
   "cell_type": "code",
   "execution_count": 8,
   "id": "2aec83d4",
   "metadata": {},
   "outputs": [
    {
     "data": {
      "text/plain": [
       "('BYE', [b'LOGOUT Requested'])"
      ]
     },
     "execution_count": 8,
     "metadata": {},
     "output_type": "execute_result"
    }
   ],
   "source": [
    "# log out of the server\n",
    "mail.logout()"
   ]
  },
  {
   "cell_type": "markdown",
   "id": "4ed3e5b4",
   "metadata": {},
   "source": [
    "### Transform"
   ]
  },
  {
   "cell_type": "code",
   "execution_count": 9,
   "id": "35ea97fc",
   "metadata": {},
   "outputs": [
    {
     "name": "stdout",
     "output_type": "stream",
     "text": [
      "300\n"
     ]
    }
   ],
   "source": [
    "# merge emails into a single dataframe\n",
    "df = pd.concat([df_personal[:num_emails], df_not_personal[:num_emails]])\n",
    "print(len(df))"
   ]
  },
  {
   "cell_type": "code",
   "execution_count": 10,
   "id": "9534cb4a",
   "metadata": {},
   "outputs": [],
   "source": [
    "# feature engineering\n",
    "\n",
    "# length of the body\n",
    "df[\"body_length\"] = df[\"body\"].apply(len)\n",
    "\n",
    "# contains \"lol\"\n",
    "df[\"contains_lol\"] = df[\"body\"].apply(lambda x: \"lol\" in x.lower())\n",
    "\n",
    "# contains \"OMG\"\n",
    "df[\"contains_omg\"] = df[\"body\"].apply(lambda x: \"omg\" in x.lower())\n",
    "\n",
    "# contains \"attached\" or \"see attached\" or \"see attachment\"\n",
    "df[\"contains_attached\"] = df[\"body\"].apply(lambda x: \"attached\" in x.lower())\n",
    "df[\"contains_attachment\"] = df[\"body\"].apply(lambda x: \"attachment\" in x.lower())\n",
    "\n",
    "# contains \"Order Confirmation\"\n",
    "df[\"contains_order_confirmation\"] = df[\"body\"].apply(lambda x: \"order confirmation\" in x.lower())\n",
    "\n",
    "# contains \"payment summary\"\n",
    "df[\"contains_payment_summary\"] = df[\"body\"].apply(lambda x: \"payment summary\" in x.lower())\n",
    "\n",
    "# sender is common person domain (gmail, yahoo, hotmail) \n",
    "df[\"sender_has_common_domain\"] = df[\"from\"].apply(lambda x: any(domain in x.lower() for domain in [\"gmail\", \"yahoo\", \"hotmail\"]))\n",
    "\n",
    "# is personal email\n",
    "df[\"is_personal\"] = df[\"label\"] == \"personal\""
   ]
  },
  {
   "cell_type": "code",
   "execution_count": 11,
   "id": "e7c1e97f",
   "metadata": {},
   "outputs": [
    {
     "data": {
      "text/html": [
       "<div>\n",
       "<style scoped>\n",
       "    .dataframe tbody tr th:only-of-type {\n",
       "        vertical-align: middle;\n",
       "    }\n",
       "\n",
       "    .dataframe tbody tr th {\n",
       "        vertical-align: top;\n",
       "    }\n",
       "\n",
       "    .dataframe thead th {\n",
       "        text-align: right;\n",
       "    }\n",
       "</style>\n",
       "<table border=\"1\" class=\"dataframe\">\n",
       "  <thead>\n",
       "    <tr style=\"text-align: right;\">\n",
       "      <th></th>\n",
       "      <th>body_length</th>\n",
       "      <th>contains_lol</th>\n",
       "      <th>contains_omg</th>\n",
       "      <th>contains_attached</th>\n",
       "      <th>contains_attachment</th>\n",
       "      <th>contains_order_confirmation</th>\n",
       "      <th>contains_payment_summary</th>\n",
       "      <th>sender_has_common_domain</th>\n",
       "      <th>is_personal</th>\n",
       "    </tr>\n",
       "  </thead>\n",
       "  <tbody>\n",
       "    <tr>\n",
       "      <th>0</th>\n",
       "      <td>1830</td>\n",
       "      <td>False</td>\n",
       "      <td>False</td>\n",
       "      <td>False</td>\n",
       "      <td>False</td>\n",
       "      <td>False</td>\n",
       "      <td>False</td>\n",
       "      <td>False</td>\n",
       "      <td>True</td>\n",
       "    </tr>\n",
       "    <tr>\n",
       "      <th>1</th>\n",
       "      <td>1522</td>\n",
       "      <td>False</td>\n",
       "      <td>False</td>\n",
       "      <td>False</td>\n",
       "      <td>False</td>\n",
       "      <td>False</td>\n",
       "      <td>False</td>\n",
       "      <td>True</td>\n",
       "      <td>True</td>\n",
       "    </tr>\n",
       "    <tr>\n",
       "      <th>2</th>\n",
       "      <td>1838</td>\n",
       "      <td>False</td>\n",
       "      <td>False</td>\n",
       "      <td>False</td>\n",
       "      <td>False</td>\n",
       "      <td>False</td>\n",
       "      <td>False</td>\n",
       "      <td>False</td>\n",
       "      <td>True</td>\n",
       "    </tr>\n",
       "    <tr>\n",
       "      <th>3</th>\n",
       "      <td>251</td>\n",
       "      <td>False</td>\n",
       "      <td>False</td>\n",
       "      <td>False</td>\n",
       "      <td>True</td>\n",
       "      <td>False</td>\n",
       "      <td>False</td>\n",
       "      <td>False</td>\n",
       "      <td>True</td>\n",
       "    </tr>\n",
       "    <tr>\n",
       "      <th>4</th>\n",
       "      <td>3170</td>\n",
       "      <td>False</td>\n",
       "      <td>False</td>\n",
       "      <td>False</td>\n",
       "      <td>False</td>\n",
       "      <td>False</td>\n",
       "      <td>False</td>\n",
       "      <td>False</td>\n",
       "      <td>True</td>\n",
       "    </tr>\n",
       "  </tbody>\n",
       "</table>\n",
       "</div>"
      ],
      "text/plain": [
       "   body_length  contains_lol  contains_omg  contains_attached  \\\n",
       "0         1830         False         False              False   \n",
       "1         1522         False         False              False   \n",
       "2         1838         False         False              False   \n",
       "3          251         False         False              False   \n",
       "4         3170         False         False              False   \n",
       "\n",
       "   contains_attachment  contains_order_confirmation  contains_payment_summary  \\\n",
       "0                False                        False                     False   \n",
       "1                False                        False                     False   \n",
       "2                False                        False                     False   \n",
       "3                 True                        False                     False   \n",
       "4                False                        False                     False   \n",
       "\n",
       "   sender_has_common_domain  is_personal  \n",
       "0                     False         True  \n",
       "1                      True         True  \n",
       "2                     False         True  \n",
       "3                     False         True  \n",
       "4                     False         True  "
      ]
     },
     "execution_count": 11,
     "metadata": {},
     "output_type": "execute_result"
    }
   ],
   "source": [
    "# drop original columns\n",
    "df_transformed = df.iloc[:, 4:]\n",
    "df_transformed.head()"
   ]
  },
  {
   "cell_type": "markdown",
   "id": "3658bda0",
   "metadata": {},
   "source": [
    "### Load"
   ]
  },
  {
   "cell_type": "code",
   "execution_count": 12,
   "id": "55644e43",
   "metadata": {},
   "outputs": [],
   "source": [
    "# save to csv\n",
    "df_transformed.to_csv(\"data/transformed_data.csv\", index=False)"
   ]
  },
  {
   "cell_type": "code",
   "execution_count": null,
   "id": "e36b6ea9",
   "metadata": {},
   "outputs": [],
   "source": []
  }
 ],
 "metadata": {
  "kernelspec": {
   "display_name": "Python 3 (ipykernel)",
   "language": "python",
   "name": "python3"
  },
  "language_info": {
   "codemirror_mode": {
    "name": "ipython",
    "version": 3
   },
   "file_extension": ".py",
   "mimetype": "text/x-python",
   "name": "python",
   "nbconvert_exporter": "python",
   "pygments_lexer": "ipython3",
   "version": "3.9.12"
  }
 },
 "nbformat": 4,
 "nbformat_minor": 5
}
