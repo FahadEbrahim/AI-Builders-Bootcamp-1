{
 "cells": [
  {
   "cell_type": "markdown",
   "id": "773f2b77-a3c6-47b8-8246-1b958555f4af",
   "metadata": {},
   "source": [
    "# Text Classification with GPT-4o\n",
    "## ABB #1 - Session 3\n",
    "\n",
    "Code authored by: Shaw Talebi"
   ]
  },
  {
   "cell_type": "markdown",
   "id": "62058d9d-adc2-4a6f-a60e-ff2abca7d93b",
   "metadata": {},
   "source": [
    "### imports"
   ]
  },
  {
   "cell_type": "code",
   "execution_count": 1,
   "id": "aa6c91d1-058e-49a7-8296-75bb925c2e8b",
   "metadata": {},
   "outputs": [],
   "source": [
    "import pandas as pd\n",
    "\n",
    "from openai import OpenAI\n",
    "from top_secret import my_sk"
   ]
  },
  {
   "cell_type": "code",
   "execution_count": 2,
   "id": "28da37e3-47a3-4fc5-9722-e638d8fdc79e",
   "metadata": {},
   "outputs": [],
   "source": [
    "# setup api client\n",
    "client = OpenAI(api_key=my_sk)"
   ]
  },
  {
   "cell_type": "markdown",
   "id": "7e99a8de",
   "metadata": {},
   "source": [
    "### functions"
   ]
  },
  {
   "cell_type": "code",
   "execution_count": 3,
   "id": "7822e88b-1968-4458-ad40-326b7c93a06e",
   "metadata": {},
   "outputs": [],
   "source": [
    "def manual_feature_engineering(df):\n",
    "    \"\"\"\n",
    "        Generate a suite of manually defined features\n",
    "    \"\"\"\n",
    "    \n",
    "    # length of the body\n",
    "    df[\"body_length\"] = df[\"body\"].apply(len)\n",
    "    \n",
    "    # contains \"lol\"\n",
    "    df[\"contains_lol\"] = df[\"body\"].apply(lambda x: \"lol\" in x.lower())\n",
    "    \n",
    "    # contains \"OMG\"\n",
    "    df[\"contains_omg\"] = df[\"body\"].apply(lambda x: \"omg\" in x.lower())\n",
    "    \n",
    "    # contains \"attached\" or \"see attached\" or \"see attachment\"\n",
    "    df[\"contains_attached\"] = df[\"body\"].apply(lambda x: \"attached\" in x.lower())\n",
    "    df[\"contains_attachment\"] = df[\"body\"].apply(lambda x: \"attachment\" in x.lower())\n",
    "    \n",
    "    # contains \"Order Confirmation\"\n",
    "    df[\"contains_order_confirmation\"] = df[\"body\"].apply(lambda x: \"order confirmation\" in x.lower())\n",
    "    \n",
    "    # contains \"payment summary\"\n",
    "    df[\"contains_payment_summary\"] = df[\"body\"].apply(lambda x: \"payment summary\" in x.lower())\n",
    "    \n",
    "    # sender is common person domain (gmail, yahoo, hotmail) \n",
    "    df[\"sender_has_common_domain\"] = df[\"from\"].apply(lambda x: any(domain in x.lower() for domain in [\"gmail\", \"yahoo\", \"hotmail\"]))\n",
    "    \n",
    "    # is personal email\n",
    "    df[\"is_personal\"] = df[\"label\"] == \"personal\"\n",
    "\n",
    "    return df"
   ]
  },
  {
   "cell_type": "code",
   "execution_count": 4,
   "id": "7c73701a-ae49-4b74-8339-94776fb3d850",
   "metadata": {},
   "outputs": [],
   "source": [
    "def generate_label(prompt_template, subject, sender, body):\n",
    "    \"\"\"\n",
    "        Function to generate 0-shot label for email based on subject, sender, and body\n",
    "    \"\"\"\n",
    "    prompt = prompt_template(subject, sender, body)\n",
    "    \n",
    "    response = client.chat.completions.create(\n",
    "        model=\"gpt-4o-mini\",\n",
    "        messages=[\n",
    "            {\"role\": \"system\", \"content\": \"Email Classifer\"},\n",
    "            {\"role\": \"user\", \"content\": prompt}\n",
    "        ], \n",
    "        temperature = 0.25,\n",
    "        max_completion_tokens=25,\n",
    "    )\n",
    "    \n",
    "    # extract response\n",
    "    return response.choices[0].message.content"
   ]
  },
  {
   "cell_type": "markdown",
   "id": "6f0e9770-2ec3-47ea-bd42-884c53a40918",
   "metadata": {},
   "source": [
    "### Load Data"
   ]
  },
  {
   "cell_type": "code",
   "execution_count": 5,
   "id": "3a26e03d-eb6a-4ea3-89b2-335803ea3514",
   "metadata": {},
   "outputs": [],
   "source": [
    "df = pd.read_csv(\"data/emails.csv\").astype(str)"
   ]
  },
  {
   "cell_type": "markdown",
   "id": "44ad81b2-2a15-4165-a47d-42307b87aad3",
   "metadata": {},
   "source": [
    "### Feature Engineering (Manual)"
   ]
  },
  {
   "cell_type": "code",
   "execution_count": 6,
   "id": "9534cb4a",
   "metadata": {},
   "outputs": [
    {
     "data": {
      "text/html": [
       "<div>\n",
       "<style scoped>\n",
       "    .dataframe tbody tr th:only-of-type {\n",
       "        vertical-align: middle;\n",
       "    }\n",
       "\n",
       "    .dataframe tbody tr th {\n",
       "        vertical-align: top;\n",
       "    }\n",
       "\n",
       "    .dataframe thead th {\n",
       "        text-align: right;\n",
       "    }\n",
       "</style>\n",
       "<table border=\"1\" class=\"dataframe\">\n",
       "  <thead>\n",
       "    <tr style=\"text-align: right;\">\n",
       "      <th></th>\n",
       "      <th>subject</th>\n",
       "      <th>from</th>\n",
       "      <th>body</th>\n",
       "      <th>label</th>\n",
       "      <th>body_length</th>\n",
       "      <th>contains_lol</th>\n",
       "      <th>contains_omg</th>\n",
       "      <th>contains_attached</th>\n",
       "      <th>contains_attachment</th>\n",
       "      <th>contains_order_confirmation</th>\n",
       "      <th>contains_payment_summary</th>\n",
       "      <th>sender_has_common_domain</th>\n",
       "      <th>is_personal</th>\n",
       "    </tr>\n",
       "  </thead>\n",
       "  <tbody>\n",
       "    <tr>\n",
       "      <th>0</th>\n",
       "      <td>Thank you Shawhin for your RSVP</td>\n",
       "      <td>Evite &lt;info@mailva.evite.com&gt;</td>\n",
       "      <td>Thank you for your RSVP\\n\\n\\nYou replied Yes f...</td>\n",
       "      <td>personal</td>\n",
       "      <td>1830</td>\n",
       "      <td>False</td>\n",
       "      <td>False</td>\n",
       "      <td>False</td>\n",
       "      <td>False</td>\n",
       "      <td>False</td>\n",
       "      <td>False</td>\n",
       "      <td>False</td>\n",
       "      <td>True</td>\n",
       "    </tr>\n",
       "    <tr>\n",
       "      <th>1</th>\n",
       "      <td>Find Date for Knocking at Door</td>\n",
       "      <td>ifyahuna@gmail.com</td>\n",
       "      <td>So you're gonna talk to your dad about this ri...</td>\n",
       "      <td>personal</td>\n",
       "      <td>1522</td>\n",
       "      <td>False</td>\n",
       "      <td>False</td>\n",
       "      <td>False</td>\n",
       "      <td>False</td>\n",
       "      <td>False</td>\n",
       "      <td>False</td>\n",
       "      <td>True</td>\n",
       "      <td>True</td>\n",
       "    </tr>\n",
       "    <tr>\n",
       "      <th>2</th>\n",
       "      <td>Thank you Shawhin for your RSVP</td>\n",
       "      <td>Evite &lt;info@mailva.evite.com&gt;</td>\n",
       "      <td>Thank you for your RSVP\\n\\n\\nYou replied Yes f...</td>\n",
       "      <td>personal</td>\n",
       "      <td>1838</td>\n",
       "      <td>False</td>\n",
       "      <td>False</td>\n",
       "      <td>False</td>\n",
       "      <td>False</td>\n",
       "      <td>False</td>\n",
       "      <td>False</td>\n",
       "      <td>False</td>\n",
       "      <td>True</td>\n",
       "    </tr>\n",
       "    <tr>\n",
       "      <th>3</th>\n",
       "      <td>Folder shared with you: \"Knocking at The Door\"</td>\n",
       "      <td>\"Ifeoma Ahuna (via Google Drive)\" &lt;drive-share...</td>\n",
       "      <td>I've shared an item with you:\\r\\n\\r\\nKnocking ...</td>\n",
       "      <td>personal</td>\n",
       "      <td>251</td>\n",
       "      <td>False</td>\n",
       "      <td>False</td>\n",
       "      <td>False</td>\n",
       "      <td>True</td>\n",
       "      <td>False</td>\n",
       "      <td>False</td>\n",
       "      <td>False</td>\n",
       "      <td>True</td>\n",
       "    </tr>\n",
       "    <tr>\n",
       "      <th>4</th>\n",
       "      <td>The Colony Shoreline Trail 5K and 15K Registra...</td>\n",
       "      <td>RunSignup &lt;info+auto@runsignup.com&gt;</td>\n",
       "      <td>[1]The Colony Shoreline Trail 5K and 15K\\r\\n\\r...</td>\n",
       "      <td>personal</td>\n",
       "      <td>3170</td>\n",
       "      <td>False</td>\n",
       "      <td>False</td>\n",
       "      <td>False</td>\n",
       "      <td>False</td>\n",
       "      <td>False</td>\n",
       "      <td>False</td>\n",
       "      <td>False</td>\n",
       "      <td>True</td>\n",
       "    </tr>\n",
       "  </tbody>\n",
       "</table>\n",
       "</div>"
      ],
      "text/plain": [
       "                                             subject  \\\n",
       "0                    Thank you Shawhin for your RSVP   \n",
       "1                     Find Date for Knocking at Door   \n",
       "2                    Thank you Shawhin for your RSVP   \n",
       "3     Folder shared with you: \"Knocking at The Door\"   \n",
       "4  The Colony Shoreline Trail 5K and 15K Registra...   \n",
       "\n",
       "                                                from  \\\n",
       "0                      Evite <info@mailva.evite.com>   \n",
       "1                                 ifyahuna@gmail.com   \n",
       "2                      Evite <info@mailva.evite.com>   \n",
       "3  \"Ifeoma Ahuna (via Google Drive)\" <drive-share...   \n",
       "4                RunSignup <info+auto@runsignup.com>   \n",
       "\n",
       "                                                body     label  body_length  \\\n",
       "0  Thank you for your RSVP\\n\\n\\nYou replied Yes f...  personal         1830   \n",
       "1  So you're gonna talk to your dad about this ri...  personal         1522   \n",
       "2  Thank you for your RSVP\\n\\n\\nYou replied Yes f...  personal         1838   \n",
       "3  I've shared an item with you:\\r\\n\\r\\nKnocking ...  personal          251   \n",
       "4  [1]The Colony Shoreline Trail 5K and 15K\\r\\n\\r...  personal         3170   \n",
       "\n",
       "   contains_lol  contains_omg  contains_attached  contains_attachment  \\\n",
       "0         False         False              False                False   \n",
       "1         False         False              False                False   \n",
       "2         False         False              False                False   \n",
       "3         False         False              False                 True   \n",
       "4         False         False              False                False   \n",
       "\n",
       "   contains_order_confirmation  contains_payment_summary  \\\n",
       "0                        False                     False   \n",
       "1                        False                     False   \n",
       "2                        False                     False   \n",
       "3                        False                     False   \n",
       "4                        False                     False   \n",
       "\n",
       "   sender_has_common_domain  is_personal  \n",
       "0                     False         True  \n",
       "1                      True         True  \n",
       "2                     False         True  \n",
       "3                     False         True  \n",
       "4                     False         True  "
      ]
     },
     "execution_count": 6,
     "metadata": {},
     "output_type": "execute_result"
    }
   ],
   "source": [
    "df = manual_feature_engineering(df)\n",
    "df.head()"
   ]
  },
  {
   "cell_type": "markdown",
   "id": "eb8e8fff-cee3-4bed-a875-ff63aa37bf90",
   "metadata": {},
   "source": [
    "### Text Classification with GPT-4o"
   ]
  },
  {
   "cell_type": "markdown",
   "id": "198a79f1-f15d-4ab5-a529-ba7b959fbfae",
   "metadata": {},
   "source": [
    "#### 0-shot"
   ]
  },
  {
   "cell_type": "code",
   "execution_count": 7,
   "id": "5f5a8ec7-3c7b-4051-a77b-b3cf82709b0d",
   "metadata": {},
   "outputs": [],
   "source": [
    "# prompt\n",
    "prompt_template = lambda subject, sender, body : f\"\"\"You are an intelligent assistant that classifies emails based on whether they are personal or not. \\\n",
    "Given an email's subject, sender, and body, determine if the email is personal (indicated by 1) or not personal (indicated by 0). A personal email typically \\\n",
    "includes messages from friends, family, or individuals addressing personal topics. Non-personal emails include promotional content, work-related messages, \\\n",
    "newsletters, or automated notifications.\n",
    "\n",
    "Input Email:\n",
    "Subject: {subject}\n",
    "Sender: {sender}\n",
    "Body: {body}\n",
    "\n",
    "Instructions:\n",
    "Carefully analyze the subject, sender, and body to understand the context and tone of the email.\n",
    "Return:\n",
    "1 if the email is personal.\n",
    "0 if the email is not personal.\n",
    "\n",
    "Output: [Your classification: 1 or 0]\n",
    "\"\"\""
   ]
  },
  {
   "cell_type": "code",
   "execution_count": 8,
   "id": "c9fd5623-1ccb-4ecd-8abd-2f4a4f3fda12",
   "metadata": {},
   "outputs": [
    {
     "name": "stdout",
     "output_type": "stream",
     "text": [
      "CPU times: user 3.56 s, sys: 176 ms, total: 3.74 s\n",
      "Wall time: 2min 38s\n"
     ]
    }
   ],
   "source": [
    "%%time\n",
    "# intialize list to store labels\n",
    "label_0shot_list = []\n",
    "\n",
    "# generate labels for each row\n",
    "for index, row in df.iterrows():\n",
    "    label_0shot_list.append(generate_label(prompt_template, row['subject'], row['from'], row['body']))"
   ]
  },
  {
   "cell_type": "code",
   "execution_count": 9,
   "id": "27b40dde-2b69-4630-8a8a-840410ea8dc1",
   "metadata": {},
   "outputs": [
    {
     "name": "stdout",
     "output_type": "stream",
     "text": [
      "['0', '1', '0', '0', '0', '0', '0', '0', '0', '1', '0', '0', '0', '0', '0', '0', '0', '0', '0', '0', '0', '0', '0', '1', '1', '0', '1', '1', '0', '1', '0', '0', '0', '0', '0', '0', '0', '0', '0', '0', '0', '0', '0', '0', '0', '0', '0', '0', '0', '0', '0', '0', '0', '1', '0', '0', '0', '0', '0', '0', '1', '1', '0', '0', '0', '0', '0', '0', '0', '0', '0', '1', '1', '1', '0', '0', '0', '0', '1', '0', '0', '1', '1', '0', '0', '0', '0', '1', '0', '0', '0', '0', '[Your classification: 0]', '1', '0', '0', '0', '[Your classification: 1]', '1', '1', '0', '0', '0', '0', '1', '1', '0', '0', '0', '0', '0', '0', '1', 'Output: 1', '1', '0', '0', '1', '1', '1', '1', '1', '0', '0', '0', '1', '0', '0', '1', '1', '1', '1', '1', '0', '1', '0', '0', '0', '0', '0', '0', '0', '0', '0', '0', '1', '0', '0', '0', '0', '0', '0', '0', '0', '0', '0', '0', '0', '0', '0', '0', '0', '0', '0', '0', '0', '0', '0', '0', '0', '0', '0', '0', '0', '0', '0', '0', '0', '0', '0', '0', '0', '0', '0', '0', '0', '0', '0', '0', '0', '0', '0', '0', '0', '0', '0', '0', '0', '0', '0', '0', '0', '0', '0', '0', '0', '0', '0', '0', '0', '0', '0', '0', '0', '0', '0', '0', '0', '0', '0', '0', '0', '0', '0', '0', '0', '0', '0', '0', '0', '0', '0', '0', '0', '0', '0', '0', '0', '0', '0', '0', '0', '0', '0', '0', '[Your classification: 0]', '0', '0', '0', '0', '0', '0', '0', '0', '0', '0', '0', '0', '0', '0', '0', '0', '0', '0', '0', '0', '0', '0', '0', '0', '0', '0', '0', '0', '0', '0', '0', '0', '0', '0', '0', '0', '0', '0', '0', '0', '0', '0', '0', '0', '0', '0', '[Your classification: 0]', '0', '0', '0', '0', '0', '0', '0']\n"
     ]
    }
   ],
   "source": [
    "print(label_0shot_list)"
   ]
  },
  {
   "cell_type": "code",
   "execution_count": 10,
   "id": "21a66448-37a3-40d7-aae7-895869fd68a9",
   "metadata": {},
   "outputs": [],
   "source": [
    "# add label to df\n",
    "df['label_0shot'] = [\"1\" in label for label in label_0shot_list]\n",
    "df['correct_0shot'] = df['is_personal']==df['label_0shot']"
   ]
  },
  {
   "cell_type": "code",
   "execution_count": 11,
   "id": "369f4883-5fc0-449b-a3e0-22e0aca7666a",
   "metadata": {},
   "outputs": [
    {
     "name": "stdout",
     "output_type": "stream",
     "text": [
      "0.63\n"
     ]
    }
   ],
   "source": [
    "# compare ground truth to 0-shot label\n",
    "print(df['correct_0shot'].sum()/len(df))"
   ]
  },
  {
   "cell_type": "markdown",
   "id": "9b155e45-72e4-454e-871b-e2d037b3452f",
   "metadata": {},
   "source": [
    "#### few-shot"
   ]
  },
  {
   "cell_type": "code",
   "execution_count": 12,
   "id": "5c4d4c93-7c5e-46fe-b8d3-7c659fe40d95",
   "metadata": {},
   "outputs": [],
   "source": [
    "# prompt\n",
    "prompt_template_fewshot = lambda subject, sender, body :f\"\"\"You are an intelligent assistant that classifies emails as personal or not personal. Given an email's subject, sender, and body, determine if the email is personal (indicated by 1) or not personal (indicated by 0). A personal email typically includes messages from friends, family, or individuals addressing personal topics. Non-personal emails include promotional content, work-related messages, newsletters, or automated notifications.\n",
    "\n",
    "##Instructions:\n",
    "Carefully analyze the subject, sender, and body to understand the context and tone of the email.\n",
    "Return:\n",
    "1 if the email is personal.\n",
    "0 if the email is not personal.\n",
    "\n",
    "##Examples:\n",
    "**Example 1:**\n",
    "\n",
    "Subject: {df['subject'][0]}\n",
    "Sender: {df['from'][0]}\n",
    "Body: {df['body'][0]}\n",
    "Output: {int(df['is_personal'][0])}\n",
    "\n",
    "**Example 2:**\n",
    "\n",
    "Subject: {df['subject'][1]}\n",
    "Sender: {df['from'][1]}\n",
    "Body: {df['body'][1]}\n",
    "Output: {int(df['is_personal'][1])}\n",
    "\n",
    "**Example 3:**\n",
    "\n",
    "Subject: {df['subject'][150]}\n",
    "Sender: {df['from'][150]}\n",
    "Body: {df['body'][150]}\n",
    "Output: {int(df['is_personal'][150])}\n",
    "\n",
    "**Input Email:**\n",
    "\n",
    "Subject: {subject}\n",
    "Sender: {sender}\n",
    "Body: {body}\n",
    "Output: [Your classification: 1 or 0]\n",
    "\"\"\""
   ]
  },
  {
   "cell_type": "code",
   "execution_count": 13,
   "id": "d31ad359-a0b7-4503-9e8c-4a8b1d902730",
   "metadata": {},
   "outputs": [
    {
     "name": "stdout",
     "output_type": "stream",
     "text": [
      "CPU times: user 4.87 s, sys: 251 ms, total: 5.12 s\n",
      "Wall time: 4min 21s\n"
     ]
    }
   ],
   "source": [
    "%%time\n",
    "# intialize list to store labels\n",
    "label_fewshot_list = []\n",
    "\n",
    "# generate labels for each row\n",
    "for index, row in df.iterrows():\n",
    "    label_fewshot_list.append(generate_label(prompt_template_fewshot, row['subject'], row['from'], row['body']))"
   ]
  },
  {
   "cell_type": "code",
   "execution_count": 14,
   "id": "237d3648-d041-481c-872d-a1eab08fa363",
   "metadata": {},
   "outputs": [
    {
     "name": "stdout",
     "output_type": "stream",
     "text": [
      "['0', '1', '0', '0', '0', '0', '0', '0', '1', '0', '1', '0', '1', '1', '0', '0', '0', '0', '0', '0', '0', '0', '1', '1', '1', '1', '1', '1', '1', '1', '1', '1', '1', '1', '1', '0', '0', '1', '0', '0', '0', '0', '0', '0', '0', '0', '0', '0', '0', '0', '0', '1', '0', '1', '0', '0', '0', '0', '0', '0', '1', '1', '0', '1', '0', '0', '0', '0', '1', '1', '0', '1', '1', '1', '1', '1', '1', '1', '1', '0', '0', '1', '1', '1', '1', '0', '1', '1', '1', '1', '0', '0', '0', '1', '0', '0', '0', '1', '1', '1', '1', '1', '1', '1', '1', '1', '0', '1', '0', '0', '0', '0', '1', '1', '1', '0', '0', '1', '1', '1', '1', '1', '1', '0', '1', '1', '1', '0', '1', '1', '1', '1', '1', '0', '1', '0', '0', '0', '0', '0', '0', '0', '0', '0', '0', '0', '1', '1', '0', '1', '0', '0', '0', '0', '0', '0', '0', '0', '0', '0', '0', '0', '0', '0', '0', '0', '0', '0', '0', '0', '0', '0', '0', '0', '0', '0', '0', '0', '0', '0', '0', '0', '0', '0', '0', '0', '0', '0', '1', '0', '0', '0', '0', '0', '0', '0', '0', '0', '0', '0', '0', '0', '0', '0', '0', '0', '0', '0', '0', '0', '0', '0', '0', '0', '0', '0', '0', '0', '0', '0', '0', '0', '0', '0', '0', '0', '0', '0', '0', '0', '0', '0', '0', '0', '0', '0', '0', '0', '0', '0', '0', '0', '0', '0', '0', '0', '0', '0', '0', '0', '0', '0', '0', '0', '0', '0', '0', '0', '0', '0', '0', '0', '0', '0', '0', '0', '0', '0', '0', '0', '0', '0', '0', '0', '0', '0', '0', '0', '0', '0', '0', '0', '0', '0', '0', '0', '0', '0', '0', '0', '0', '0', '0', '0', '0', '0', '0', '0', '0', '0']\n"
     ]
    }
   ],
   "source": [
    "print(label_fewshot_list)"
   ]
  },
  {
   "cell_type": "code",
   "execution_count": 15,
   "id": "3b614bce-c2f0-4cd1-bfba-c16e7b243287",
   "metadata": {},
   "outputs": [],
   "source": [
    "# add label to df\n",
    "df['label_fewshot'] = [\"1\" in label for label in label_fewshot_list]\n",
    "df['correct_fewshot'] = df['is_personal']==df['label_fewshot']"
   ]
  },
  {
   "cell_type": "code",
   "execution_count": 16,
   "id": "aba0703e-4c20-443b-ae09-19abd9ed7747",
   "metadata": {},
   "outputs": [
    {
     "name": "stdout",
     "output_type": "stream",
     "text": [
      "0.7433333333333333\n"
     ]
    }
   ],
   "source": [
    "# compare ground truth to 0-shot label\n",
    "print(df['correct_fewshot'].sum()/len(df))"
   ]
  },
  {
   "cell_type": "code",
   "execution_count": 17,
   "id": "e7c1e97f",
   "metadata": {},
   "outputs": [],
   "source": [
    "# save data to file\n",
    "df_transformed = df.iloc[:, 4:]\n",
    "df_transformed.to_csv(\"data/transformed_data.csv\", index=False)"
   ]
  },
  {
   "cell_type": "markdown",
   "id": "4303b0ae-a9f3-4877-98c0-07c81ae1537c",
   "metadata": {},
   "source": [
    "**Bonus:** train a classifer using noisy labels from GPT-4o-mini using [Example 2](https://github.com/ShawhinT/AI-Builders-Bootcamp-1/blob/main/session-2/example_2-email_classifier.ipynb) from Session 2"
   ]
  },
  {
   "cell_type": "code",
   "execution_count": null,
   "id": "b033bcb8-d81c-43c2-af65-6979b5a88e1d",
   "metadata": {},
   "outputs": [],
   "source": []
  }
 ],
 "metadata": {
  "kernelspec": {
   "display_name": "Python 3 (ipykernel)",
   "language": "python",
   "name": "python3"
  },
  "language_info": {
   "codemirror_mode": {
    "name": "ipython",
    "version": 3
   },
   "file_extension": ".py",
   "mimetype": "text/x-python",
   "name": "python",
   "nbconvert_exporter": "python",
   "pygments_lexer": "ipython3",
   "version": "3.12.2"
  }
 },
 "nbformat": 4,
 "nbformat_minor": 5
}
